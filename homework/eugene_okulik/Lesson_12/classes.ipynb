{
 "cells": [
  {
   "cell_type": "code",
   "execution_count": 13,
   "metadata": {},
   "outputs": [],
   "source": [
    "from abc import abstractmethod\n",
    "\n",
    "\n",
    "class SchoolGroup:\n",
    "    school_name = 42\n",
    "    director = 'Marivanna'\n",
    "    pupils = True\n",
    "\n",
    "    def __init__(self, group_leader, title, pupils_count, group_room):\n",
    "        self.group_leader = group_leader\n",
    "        self.title = title\n",
    "        self.pupils_count = pupils_count\n",
    "        self.group_room = group_room\n",
    "\n",
    "    def study(self):\n",
    "        print('Sit down and read')\n",
    "\n",
    "    @abstractmethod\n",
    "    def move(self):\n",
    "        pass\n",
    "\n",
    "\n",
    "class PrimaryGroup(SchoolGroup):\n",
    "    min_age = 6\n",
    "    max_age = 11\n",
    "    section = 'left'\n",
    "\n",
    "    def __init__(self, group_leader, title, pupils_count, group_room, speciality):\n",
    "        super().__init__(group_leader, title, pupils_count, group_room)\n",
    "        self.speciality = speciality\n",
    "    \n",
    "\n",
    "    def move(self):\n",
    "        print('run fast')\n",
    "        \n",
    "\n",
    "\n",
    "class FirstGroup(PrimaryGroup):\n",
    "    max_age = 7\n",
    "\n",
    "\n",
    "class SecondGroup(PrimaryGroup):\n",
    "    max_age = 8\n",
    "\n",
    "\n",
    "class HighGroup(SchoolGroup):\n",
    "    min_age = 14\n",
    "    max_age = 18\n",
    "\n",
    "    def move(self):\n",
    "        print('Go slowly')\n",
    "\n"
   ]
  },
  {
   "cell_type": "code",
   "execution_count": 2,
   "metadata": {},
   "outputs": [
    {
     "name": "stdout",
     "output_type": "stream",
     "text": [
      "42\n",
      "11\n",
      "18\n"
     ]
    }
   ],
   "source": [
    "one_a = PrimaryGroup('FMD', '1 A', 19, group_room=113)\n",
    "one_b = PrimaryGroup()\n",
    "\n",
    "print(one_a.school_name)\n",
    "print(one_b.max_age)\n",
    "\n",
    "eleven_a = HighGroup()\n",
    "print(eleven_a.max_age)"
   ]
  },
  {
   "cell_type": "code",
   "execution_count": 17,
   "metadata": {},
   "outputs": [
    {
     "name": "stdout",
     "output_type": "stream",
     "text": [
      "1 A\n",
      "1 B\n",
      "42\n",
      "42\n",
      "Sit down and read\n",
      "Sit down and read\n",
      "Sit down and read\n",
      "run fast\n",
      "Go slowly\n",
      "<class 'int'>\n",
      "<class '__main__.HighGroup'>\n"
     ]
    }
   ],
   "source": [
    "one_a = PrimaryGroup('FMD', '1 A', 19, 113, 'music')\n",
    "one_b = PrimaryGroup('AQQ', '1 B', 20, 115, 'dance')\n",
    "\n",
    "eleven_a = HighGroup('FOR', '11 A', 21, 315)\n",
    "\n",
    "print(one_a.title)\n",
    "print(one_b.title)\n",
    "print(one_a.school_name)\n",
    "print(one_b.school_name)\n",
    "one_a.study()\n",
    "one_b.study()\n",
    "eleven_a.study()\n",
    "one_a.move()\n",
    "eleven_a.move()\n",
    "a = 1\n",
    "print(type(a))\n",
    "print(type(eleven_a))"
   ]
  },
  {
   "cell_type": "code",
   "execution_count": null,
   "metadata": {},
   "outputs": [],
   "source": [
    "class By:\n",
    "    XPATH = 'xpath'\n",
    "    CSS_SELECTOR = 'css selector'\n",
    "\n",
    "class BaseTest:\n",
    "    url = 'myurl'\n",
    "\n",
    "\n",
    "class TestPage(BaseTest, By):\n",
    "    def test_one(self):\n",
    "        self.url\n",
    "        self.XPATH"
   ]
  }
 ],
 "metadata": {
  "kernelspec": {
   "display_name": "Python 3",
   "language": "python",
   "name": "python3"
  },
  "language_info": {
   "codemirror_mode": {
    "name": "ipython",
    "version": 3
   },
   "file_extension": ".py",
   "mimetype": "text/x-python",
   "name": "python",
   "nbconvert_exporter": "python",
   "pygments_lexer": "ipython3",
   "version": "3.10.12"
  }
 },
 "nbformat": 4,
 "nbformat_minor": 2
}
