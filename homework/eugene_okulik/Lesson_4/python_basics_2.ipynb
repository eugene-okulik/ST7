{
 "cells": [
  {
   "cell_type": "markdown",
   "metadata": {},
   "source": [
    "### Операторы сравнения\n",
    "![](2022-11-16_19-57.png)  \n",
    "Один оператор замазан, там \"<>\" - он умер вместе с Python 2.7\n",
    "Все эти операторы используются для того чтобы сравнивать какие-либо значения. Результатом такого сравнения будет True или False"
   ]
  },
  {
   "cell_type": "code",
   "execution_count": 5,
   "metadata": {},
   "outputs": [
    {
     "name": "stdout",
     "output_type": "stream",
     "text": [
      "True\n",
      "True\n",
      "False\n"
     ]
    }
   ],
   "source": [
    "print(1 != 2)\n",
    "print(1 <= 2)\n",
    "print(1 >= 2)"
   ]
  },
  {
   "cell_type": "markdown",
   "metadata": {},
   "source": [
    "### Операторы присваивания\n",
    "![](img/2022-11-16_20-00.png)  \n",
    "Используются для того, чтобы присвоить какое либо значение переменной."
   ]
  },
  {
   "cell_type": "code",
   "execution_count": 15,
   "metadata": {},
   "outputs": [
    {
     "name": "stdout",
     "output_type": "stream",
     "text": [
      "3\n",
      "Hello World\n",
      "my_textAAAA\n",
      "8\n"
     ]
    }
   ],
   "source": [
    "a = 1\n",
    "\n",
    "print(1 + 2)\n",
    "\n",
    "print('Hello ' + 'World')  # Here I concatenate two words\n",
    "\n",
    "text = 'my_text'\n",
    "text = text + 'AAAA'\n",
    "text += 'AAAA'\n",
    "\n",
    "print(text)\n",
    "\n",
    "b = 5\n",
    "b = b + 3\n",
    "b += 3\n",
    "# b -= 3\n",
    "\n",
    "print(b)"
   ]
  },
  {
   "cell_type": "code",
   "execution_count": null,
   "metadata": {},
   "outputs": [],
   "source": [
    "#################################\n",
    "#                               #\n",
    "#      Made by Petia            #\n",
    "#################################"
   ]
  },
  {
   "cell_type": "code",
   "execution_count": 16,
   "metadata": {},
   "outputs": [
    {
     "name": "stdout",
     "output_type": "stream",
     "text": [
      "#################################\n",
      "#                               #\n",
      "#      Made by Petia            #\n",
      "#################################\n"
     ]
    }
   ],
   "source": [
    "print('#################################')\n",
    "print('#                               #')\n",
    "print('#      Made by Petia            #')\n",
    "print('#################################')"
   ]
  },
  {
   "cell_type": "code",
   "execution_count": 20,
   "metadata": {},
   "outputs": [
    {
     "name": "stdout",
     "output_type": "stream",
     "text": [
      "*************************\n",
      "*                       *\n",
      "*     Made by Petia     *\n",
      "*************************\n"
     ]
    }
   ],
   "source": [
    "symbol = '*'\n",
    "full_line = symbol * 25\n",
    "space_separators = ' ' * 5\n",
    "print(full_line)\n",
    "print(symbol + ' ' * 23 + symbol)\n",
    "print(symbol + space_separators + 'Made by Petia' + space_separators + symbol)\n",
    "print(full_line)"
   ]
  },
  {
   "cell_type": "markdown",
   "metadata": {},
   "source": [
    "### Операторы принадлежности\n",
    "![](img/2022-11-16_20-01.png)  \n",
    "Используются в условных выражениях (выражения, в которых содержится условие) для проверки вхождения (или не вхождения) одного объекта в состав другого. Результат работы - True или False  \n",
    "Например, можно проверить есть ли какое-то слово в строке:"
   ]
  },
  {
   "cell_type": "code",
   "execution_count": 23,
   "metadata": {},
   "outputs": [
    {
     "name": "stdout",
     "output_type": "stream",
     "text": [
      "True\n"
     ]
    }
   ],
   "source": [
    "text = 'I love Python'\n",
    "print('love' in text)"
   ]
  },
  {
   "cell_type": "markdown",
   "metadata": {},
   "source": [
    "### Операторы идентичности\n",
    "![](img/2022-11-16_20-05.png)  \n",
    "Используется для проверки является ли объект идентичным тому, что от него требуется (не просто равным по значению, а именно полностью идентичным).  \n",
    "Происходит проверка являются ли сравниваемые значения представителями одного и того же участка памяти в системе. Для чисел от 0 до 256 участки в памяти зарезервированы, поэтому при помещении в переменную такого числа (от 0 до 256) в переменную помещается не само число, а ссылка на него и память для этого числа не выделяется. Эти числа всегда хранятся в системе по одному и тому же адрему. Но если внести в переменную число > 256, то под это число выделяется память и в переменную сохраняется ссылка на эту новую ячейку памяти. Если создать еще одну переменную с таким же значением, под нее снова будет выделена память и в переменную будет сохранена ссылка на новую ячейку памяти.  \n",
    "Таким образом, операторы идентичности проверяют, что сравниваемые объекты представляют собой одну и ту же ячейку памяти."
   ]
  },
  {
   "cell_type": "code",
   "execution_count": 30,
   "metadata": {},
   "outputs": [
    {
     "name": "stdout",
     "output_type": "stream",
     "text": [
      "True\n",
      "True\n",
      "127787180227712\n",
      "127787180227712\n"
     ]
    }
   ],
   "source": [
    "word_1 = 'duck'\n",
    "word_2 = 'duck'\n",
    "print(word_1 == word_2)\n",
    "print(word_1 is word_2)\n",
    "print(id(word_1))\n",
    "print(id(word_2))"
   ]
  },
  {
   "cell_type": "markdown",
   "metadata": {},
   "source": [
    "## Способы ввода данных\n",
    "Клавиатура  \n",
    "Чтение из файла  \n",
    "База данных  \n",
    "API  \n",
    "\n",
    "Но сначала разберемся с одним из них"
   ]
  },
  {
   "cell_type": "code",
   "execution_count": 31,
   "metadata": {},
   "outputs": [
    {
     "name": "stdout",
     "output_type": "stream",
     "text": [
      "Bob\n"
     ]
    }
   ],
   "source": [
    "user_name = input('What is your name?')\n",
    "print(user_name)"
   ]
  },
  {
   "cell_type": "markdown",
   "metadata": {},
   "source": [
    "Касательно функции input, важно знать, что все, что ввел пользователь будет сохранено в переменную как текст, независимо от того что пользователь ввел. Поэтому, если мы ждем от пользователя число и хотим работать с этим как с числом, то нужно будет преобразовать тот текст, который ввел пользователь в число."
   ]
  },
  {
   "cell_type": "code",
   "execution_count": 32,
   "metadata": {},
   "outputs": [
    {
     "name": "stdout",
     "output_type": "stream",
     "text": [
      "12\n"
     ]
    }
   ],
   "source": [
    "first_number = input('Enter first number: ') # '1'\n",
    "second_number = input('Enter second number: ')  # '2'\n",
    "\n",
    "\n",
    "\n",
    "print(first_number + second_number)  # '1' + '2'"
   ]
  },
  {
   "cell_type": "code",
   "execution_count": 39,
   "metadata": {},
   "outputs": [
    {
     "name": "stdout",
     "output_type": "stream",
     "text": [
      "3\n"
     ]
    }
   ],
   "source": [
    "first_number = int(input('Enter first number: '))\n",
    "second_number = int(input('Enter second number: '))\n",
    "# first_number = int(first_number)\n",
    "# second_number = int(second_number)\n",
    "\n",
    "\n",
    "print(first_number + second_number)"
   ]
  },
  {
   "cell_type": "markdown",
   "metadata": {},
   "source": [
    "## Преобразование типов данных"
   ]
  },
  {
   "cell_type": "code",
   "execution_count": 46,
   "metadata": {},
   "outputs": [
    {
     "name": "stdout",
     "output_type": "stream",
     "text": [
      "<class 'str'>\n",
      "<class 'int'>\n",
      "<class 'str'>\n",
      "<class 'float'>\n",
      "2.0\n",
      "<class 'bool'>\n",
      "True\n"
     ]
    }
   ],
   "source": [
    "a  = '1'\n",
    "print(type(a))\n",
    "a = int(a)\n",
    "print(type(a))\n",
    "a = str(a)\n",
    "print(type(a))\n",
    "c = '2'\n",
    "c = float(c)\n",
    "print(type(c))\n",
    "print(c)\n",
    "d = 'False'\n",
    "d = bool(d)\n",
    "print(type(d))\n",
    "print(d)\n"
   ]
  },
  {
   "cell_type": "code",
   "execution_count": 56,
   "metadata": {},
   "outputs": [
    {
     "name": "stdout",
     "output_type": "stream",
     "text": [
      "7.0\n",
      "1.0\n"
     ]
    }
   ],
   "source": [
    "print(2.0 + 5)\n",
    "print(2 / 2)\n"
   ]
  },
  {
   "cell_type": "markdown",
   "metadata": {},
   "source": [
    "# Типы данных в Python\n",
    "Number (целое число)  \n",
    "String (строка)  \n",
    "Boolean (логический тип данных)  \n",
    "Float(числа с плавающей точкой)  \n",
    "List (список)  \n",
    "Dictionary (словарь)  \n",
    "Tuple (кортеж)  \n",
    "Set (множество)  "
   ]
  },
  {
   "cell_type": "code",
   "execution_count": 58,
   "metadata": {},
   "outputs": [
    {
     "name": "stdout",
     "output_type": "stream",
     "text": [
      "(1, 3, 5, 7, 8)\n"
     ]
    }
   ],
   "source": [
    "a = (1, 3 ,5, 7, 8)\n",
    "print(a)"
   ]
  },
  {
   "cell_type": "markdown",
   "metadata": {},
   "source": [
    "## List(списки)\n",
    "Python список - структура данных для хранения последовательностей.   \n",
    "Экземпляры значений, находящихся в списке, называются элементами списка."
   ]
  },
  {
   "cell_type": "code",
   "execution_count": 67,
   "metadata": {},
   "outputs": [
    {
     "name": "stdout",
     "output_type": "stream",
     "text": [
      "[1, 3, 6, 7, None, 'text', False, 2.42, 'last', 'sdfsdf']\n",
      "7\n",
      "1\n",
      "2.42\n",
      "sdfsdf\n",
      "2.42\n",
      "[1, 3, 42, 7, None, 'text', False, 2.42, 'last', 'sdfsdf']\n"
     ]
    }
   ],
   "source": [
    "my_list = [1, 3, 6, 7, None, 'text', False, 2.42, 'last', 'sdfsdf']\n",
    "print(my_list)\n",
    "print(my_list[3])\n",
    "print(my_list[0])\n",
    "print(my_list[7])\n",
    "print(my_list[-1])\n",
    "print(my_list[-3])\n",
    "\n",
    "my_list[2] = 42\n",
    "print(my_list)"
   ]
  },
  {
   "cell_type": "code",
   "execution_count": 74,
   "metadata": {},
   "outputs": [
    {
     "name": "stdout",
     "output_type": "stream",
     "text": [
      "[42, 'text']\n",
      "2\n",
      "1\n",
      "['text']\n",
      "42\n",
      "False\n",
      "True\n"
     ]
    }
   ],
   "source": [
    "my_list = []\n",
    "my_list = list()\n",
    "my_list.append(42)\n",
    "my_list.append('text')\n",
    "\n",
    "print(my_list)\n",
    "print(len(my_list))\n",
    "print(my_list.index('text'))\n",
    "poped = my_list.pop(0)\n",
    "print(my_list)\n",
    "print(poped)\n",
    "\n",
    "print(42 in my_list)\n",
    "print('text' in my_list)"
   ]
  },
  {
   "cell_type": "markdown",
   "metadata": {},
   "source": [
    "## Tuple(кортежи)\n",
    "Хранят данные различных типов  \n",
    "Неизменяемы  \n",
    "Занимают меньший размер  \n",
    "Оптимизируются интепретатором   \n",
    "По поведению похожи на списки. Главное отличие - нет функций, позволяющих что-то добавить в кортеж или изменить внутри него"
   ]
  },
  {
   "cell_type": "code",
   "execution_count": 80,
   "metadata": {},
   "outputs": [
    {
     "name": "stdout",
     "output_type": "stream",
     "text": [
      "7\n",
      "3\n",
      "1\n",
      "2\n"
     ]
    }
   ],
   "source": [
    "my_tuple = (1, 3, 6, 7, None, False, 2.42, 3)\n",
    "print(my_tuple[3])\n",
    "print(my_tuple[-1])\n",
    "# my_tuple[0] = 876987\n",
    "print(my_tuple.index(3))\n",
    "print(my_tuple.count(3))\n"
   ]
  },
  {
   "cell_type": "code",
   "execution_count": 82,
   "metadata": {},
   "outputs": [
    {
     "name": "stdout",
     "output_type": "stream",
     "text": [
      "(3,)\n"
     ]
    }
   ],
   "source": [
    "my_tuple = ()\n",
    "my_tuple = tuple()\n",
    "\n",
    "my_list = [3]\n",
    "my_tuple = (3,)\n",
    "print(my_tuple)\n"
   ]
  },
  {
   "cell_type": "markdown",
   "metadata": {},
   "source": [
    "## Set(множества)\n",
    "Содержит в себе только неповторяющиеся элементы  \n",
    "Не гарантирует порядок элементов  \n",
    "Работа с ним тоже похожа на работу со списком  "
   ]
  },
  {
   "cell_type": "code",
   "execution_count": 95,
   "metadata": {},
   "outputs": [
    {
     "name": "stdout",
     "output_type": "stream",
     "text": [
      "{1, 2.42, 3, 6, 7, 'text', 'False', None}\n",
      "{2, 6, 7, 'text', 'False', None}\n",
      "3\n"
     ]
    }
   ],
   "source": [
    "my_set = {1, 3, 6, 7, None, 'text', 'False', 2.42, 3, None, 1}\n",
    "# print(my_set[2])\n",
    "print(my_set)\n",
    "my_set.add(1)\n",
    "my_set.add(2)\n",
    "poped = my_set.pop()\n",
    "poped = my_set.pop()\n",
    "poped = my_set.pop()\n",
    "print(my_set)\n",
    "print(poped)"
   ]
  },
  {
   "cell_type": "code",
   "execution_count": 88,
   "metadata": {},
   "outputs": [
    {
     "name": "stdout",
     "output_type": "stream",
     "text": [
      "[1, 2.42, 3, 6, 7, 'text', 'False', None]\n"
     ]
    }
   ],
   "source": [
    "my_list = [1, 3, 6, 7, None, 'text', 'False', 2.42, 3, None, 1]\n",
    "my_list = list(set(my_list))\n",
    "print(my_list)"
   ]
  },
  {
   "cell_type": "code",
   "execution_count": 90,
   "metadata": {},
   "outputs": [
    {
     "name": "stdout",
     "output_type": "stream",
     "text": [
      "<class 'dict'>\n",
      "<class 'set'>\n"
     ]
    }
   ],
   "source": [
    "my_set = {}\n",
    "print(type(my_set))\n",
    "my_set = set()\n",
    "print(type(my_set))"
   ]
  },
  {
   "cell_type": "code",
   "execution_count": 92,
   "metadata": {},
   "outputs": [
    {
     "name": "stdout",
     "output_type": "stream",
     "text": [
      "text\n",
      "qoiwueryqiwue\n"
     ]
    }
   ],
   "source": [
    "a = 'text'\n",
    "print(a)\n",
    "a = 'qoiwueryqiwue'\n",
    "print(a)"
   ]
  }
 ],
 "metadata": {
  "kernelspec": {
   "display_name": "Python 3",
   "language": "python",
   "name": "python3"
  },
  "language_info": {
   "codemirror_mode": {
    "name": "ipython",
    "version": 3
   },
   "file_extension": ".py",
   "mimetype": "text/x-python",
   "name": "python",
   "nbconvert_exporter": "python",
   "pygments_lexer": "ipython3",
   "version": "3.10.12"
  }
 },
 "nbformat": 4,
 "nbformat_minor": 2
}
