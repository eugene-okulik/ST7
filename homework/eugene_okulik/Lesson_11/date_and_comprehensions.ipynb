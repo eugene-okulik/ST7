{
 "cells": [
  {
   "cell_type": "markdown",
   "metadata": {},
   "source": [
    "## Datetime"
   ]
  },
  {
   "cell_type": "code",
   "execution_count": 5,
   "metadata": {},
   "outputs": [
    {
     "name": "stdout",
     "output_type": "stream",
     "text": [
      "2024-05-20 20:03:31.009333\n",
      "20\n",
      "0\n",
      "1\n",
      "1716224611.009333\n"
     ]
    }
   ],
   "source": [
    "import datetime\n",
    "\n",
    "time_now = datetime.datetime.now()\n",
    "\n",
    "print(time_now)\n",
    "print(time_now.hour)\n",
    "print(time_now.weekday())\n",
    "print(time_now.isoweekday())\n",
    "print(time_now.timestamp())"
   ]
  },
  {
   "cell_type": "code",
   "execution_count": 7,
   "metadata": {},
   "outputs": [
    {
     "name": "stdout",
     "output_type": "stream",
     "text": [
      "1960-01-15 00:00:00\n",
      "-314420400.0\n"
     ]
    }
   ],
   "source": [
    "easy_date = datetime.datetime(1960, 1, 15)\n",
    "print(easy_date)\n",
    "print(easy_date.timestamp())"
   ]
  },
  {
   "cell_type": "markdown",
   "metadata": {},
   "source": [
    "https://docs.python.org/3/library/datetime.html#strftime-and-strptime-format-codes"
   ]
  },
  {
   "cell_type": "code",
   "execution_count": 19,
   "metadata": {},
   "outputs": [
    {
     "name": "stdout",
     "output_type": "stream",
     "text": [
      "2\n",
      "2023-06-05 12:03:10\n",
      "6\n"
     ]
    }
   ],
   "source": [
    "\n",
    "my_date = '2024-05-02 20:03:31.009333'\n",
    "my_date = datetime.datetime.fromisoformat(my_date)\n",
    "print(my_date.day)\n",
    "my_date = '3 mins, 2023/6/5 12 hours, 10 secs'\n",
    "python_date = datetime.datetime.strptime(my_date, '%M mins, %Y/%m/%d %H hours, %S secs')\n",
    "print(python_date)\n",
    "print(python_date.month)"
   ]
  },
  {
   "cell_type": "code",
   "execution_count": 15,
   "metadata": {},
   "outputs": [
    {
     "name": "stdout",
     "output_type": "stream",
     "text": [
      "Year: 23, month: June, day: 05\n"
     ]
    }
   ],
   "source": [
    "# Year: 23, month: June, day: 05\n",
    "\n",
    "human_date = python_date.strftime('Year: %y, month: %B, day: %d')\n",
    "print(human_date)"
   ]
  },
  {
   "cell_type": "markdown",
   "metadata": {},
   "source": [
    "## List comprehension"
   ]
  },
  {
   "cell_type": "code",
   "execution_count": 21,
   "metadata": {},
   "outputs": [
    {
     "name": "stdout",
     "output_type": "stream",
     "text": [
      "[2, 4, 6, 8, 10, 12, 14, 16, 20]\n",
      "[2, 4, 6, 8, 10, 12, 14, 16, 20]\n"
     ]
    }
   ],
   "source": [
    "my_list = [1, 2, 3, 4, 5, 6, 7, 8, 10]\n",
    "\n",
    "new_list = []\n",
    "for x in my_list:\n",
    "    new_list.append(x * 2)\n",
    "\n",
    "print(new_list)\n",
    "\n",
    "new_list2 = [x * 2 for x in my_list]\n",
    "\n",
    "print(new_list2)"
   ]
  },
  {
   "cell_type": "code",
   "execution_count": 25,
   "metadata": {},
   "outputs": [
    {
     "name": "stdout",
     "output_type": "stream",
     "text": [
      "[2, 4, 6, 8, 10]\n",
      "[2, 4, 6, 8, 10]\n",
      "<class 'generator'>\n",
      "<generator object <genexpr> at 0x7d4afde619a0>\n"
     ]
    }
   ],
   "source": [
    "my_list = [1, 2, 3, 4, 5, 6, 7, 8, 10]\n",
    "\n",
    "new_list = []\n",
    "for x in my_list:\n",
    "    if x % 2 == 0:\n",
    "        new_list.append(x)\n",
    "\n",
    "print(new_list)\n",
    "\n",
    "new_list2 = [x for x in my_list if x % 2 == 0]\n",
    "new_tuple = (x for x in my_list if x % 2 == 0)\n",
    "\n",
    "print(new_list2)\n",
    "print(type(new_tuple))\n",
    "print(new_tuple)"
   ]
  },
  {
   "cell_type": "code",
   "execution_count": 27,
   "metadata": {},
   "outputs": [
    {
     "name": "stdout",
     "output_type": "stream",
     "text": [
      "{1: 1, 2: 4, 3: 9, 4: 16, 5: 25, 6: 36, 7: 49, 8: 64, 10: 100}\n",
      "{1: 1, 2: 4, 3: 9, 4: 16, 5: 25, 6: 36, 7: 49, 8: 64, 10: 100}\n"
     ]
    }
   ],
   "source": [
    "my_list = [1, 2, 3, 4, 5, 6, 7, 8, 10]\n",
    "\n",
    "new_dict = {}\n",
    "for x in my_list:\n",
    "    new_dict[x] = x * x\n",
    "\n",
    "print(new_dict)\n",
    "\n",
    "new_dict2 = {x: x * x for x in my_list}\n",
    "print(new_dict2)"
   ]
  },
  {
   "cell_type": "code",
   "execution_count": 29,
   "metadata": {},
   "outputs": [
    {
     "name": "stdout",
     "output_type": "stream",
     "text": [
      "{'one': 'two', 'three': 'four'}\n",
      "{'one': 'two', 'three': 'four'}\n"
     ]
    }
   ],
   "source": [
    "data = [('one', 'two'), ('three', 'four')]\n",
    "\n",
    "new_dict = {key: value for key, value in data}\n",
    "print(new_dict)\n",
    "new_dict = dict(data)\n",
    "print(new_dict)"
   ]
  },
  {
   "cell_type": "code",
   "execution_count": 32,
   "metadata": {},
   "outputs": [
    {
     "name": "stdout",
     "output_type": "stream",
     "text": [
      "{'USA': 23, 'Hawaii': 33, 'Cuba': 35}\n"
     ]
    }
   ],
   "source": [
    "countries = ['USA', 'Hawaii', 'Cuba']\n",
    "temps = [23, 33, 35]\n",
    "\n",
    "country_temps = zip(countries, temps)\n",
    "# print(list(country_temps))\n",
    "country_temps_dict = dict(country_temps)\n",
    "print(country_temps_dict)"
   ]
  },
  {
   "cell_type": "code",
   "execution_count": 37,
   "metadata": {},
   "outputs": [
    {
     "name": "stdout",
     "output_type": "stream",
     "text": [
      "{'USA': 23, 'Hawaii': 33, 'Cuba': 35, 'AAAA': 33}\n"
     ]
    }
   ],
   "source": [
    "import itertools\n",
    "\n",
    "countries = ['USA', 'Hawaii', 'Cuba', 'AAAA']\n",
    "temps = [23, 33, 35, 33]\n",
    "\n",
    "assert len(countries) == len(temps)\n",
    "country_temps = itertools.zip_longest(countries, temps)\n",
    "# print(list(country_temps))\n",
    "country_temps_dict = dict(country_temps)\n",
    "print(country_temps_dict)"
   ]
  }
 ],
 "metadata": {
  "kernelspec": {
   "display_name": "Python 3",
   "language": "python",
   "name": "python3"
  },
  "language_info": {
   "codemirror_mode": {
    "name": "ipython",
    "version": 3
   },
   "file_extension": ".py",
   "mimetype": "text/x-python",
   "name": "python",
   "nbconvert_exporter": "python",
   "pygments_lexer": "ipython3",
   "version": "3.10.12"
  }
 },
 "nbformat": 4,
 "nbformat_minor": 2
}
