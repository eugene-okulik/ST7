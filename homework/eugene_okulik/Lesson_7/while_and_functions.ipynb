{
 "cells": [
  {
   "cell_type": "markdown",
   "metadata": {},
   "source": [
    "## while loop - цикл while"
   ]
  },
  {
   "cell_type": "code",
   "execution_count": 25,
   "metadata": {},
   "outputs": [
    {
     "name": "stdout",
     "output_type": "stream",
     "text": [
      "Hello\n",
      "Hello\n",
      "Hello\n",
      "Hello\n",
      "Hello\n"
     ]
    }
   ],
   "source": [
    "i = 0\n",
    "\n",
    "while i < 5:\n",
    "    print('Hello')\n",
    "    i += 1\n"
   ]
  },
  {
   "cell_type": "code",
   "execution_count": 26,
   "metadata": {},
   "outputs": [],
   "source": [
    "while 1 == 2:\n",
    "    print()"
   ]
  },
  {
   "cell_type": "code",
   "execution_count": 27,
   "metadata": {},
   "outputs": [
    {
     "name": "stdout",
     "output_type": "stream",
     "text": [
      "\n",
      "Once more\n",
      "\n",
      "Once more\n",
      "\n",
      "Once more\n",
      "\n",
      "Once more\n",
      "\n",
      "Once more\n",
      "\n",
      "Once more\n",
      "\n",
      "Once more\n"
     ]
    }
   ],
   "source": [
    "while True:\n",
    "    user_input = input('Enter something: ')\n",
    "    if user_input in ['zzz', 'xxx', 'yyy']:\n",
    "        print('Wrong word')\n",
    "        continue\n",
    "    print(user_input)\n",
    "    if user_input == 'exit':\n",
    "        break\n",
    "    print('Once more')\n",
    "\n",
    "print('Good bye!')"
   ]
  },
  {
   "cell_type": "code",
   "execution_count": null,
   "metadata": {},
   "outputs": [
    {
     "name": "stdout",
     "output_type": "stream",
     "text": [
      "justo\n"
     ]
    }
   ],
   "source": [
    "text = 'Sed vitae justo malesuada, commodo libero eu, bibendum mauris.'\n",
    "\n",
    "limit = 4\n",
    "words = text.split()\n",
    "for count, word in enumerate(words):\n",
    "    if count  >= limit:\n",
    "        break\n",
    "    if 'o' in word:\n",
    "        if 'e' in word:\n",
    "            continue\n",
    "        print(word)"
   ]
  },
  {
   "cell_type": "code",
   "execution_count": null,
   "metadata": {},
   "outputs": [
    {
     "name": "stdout",
     "output_type": "stream",
     "text": [
      "0 Sed\n",
      "1 vitae\n",
      "2 justo\n",
      "3 malesuada,\n",
      "4 commodo\n",
      "5 libero\n",
      "6 eu,\n",
      "7 bibendum\n",
      "8 mauris.\n"
     ]
    }
   ],
   "source": [
    "for count, value in enumerate(words):\n",
    "    print(count, value)"
   ]
  },
  {
   "cell_type": "markdown",
   "metadata": {},
   "source": [
    "## Functions\n",
    "Это самые основные программные структуры в языке Python, позволяющие многократное использование программного кода и уменьшающие его избыточность. Так же позволяют разбить сложную систему на достаточно простые и легко управляемые части. Они могут принимать аргументы и возвращать результаты выполнения."
   ]
  },
  {
   "cell_type": "markdown",
   "metadata": {},
   "source": [
    "DRY - don't repeat yourself"
   ]
  },
  {
   "cell_type": "code",
   "execution_count": null,
   "metadata": {},
   "outputs": [
    {
     "name": "stdout",
     "output_type": "stream",
     "text": [
      "48\n",
      "52\n",
      "51\n",
      "54\n"
     ]
    }
   ],
   "source": [
    "a = 1\n",
    "b = 5\n",
    "c = 4\n",
    "d = 7\n",
    "\n",
    "y = 1\n",
    "\n",
    "main_number = 47\n",
    "\n",
    "if y == 0:\n",
    "    print(a)\n",
    "else:\n",
    "    print(a + main_number)\n",
    "if y == 0:\n",
    "    print(b)\n",
    "else:\n",
    "    print(b + main_number)\n",
    "if y == 0:\n",
    "    print(c)\n",
    "else:\n",
    "    print(c + main_number)\n",
    "if y == 0:\n",
    "    print(d)\n",
    "else:\n",
    "    print(d + main_number)\n"
   ]
  },
  {
   "cell_type": "code",
   "execution_count": null,
   "metadata": {},
   "outputs": [
    {
     "name": "stdout",
     "output_type": "stream",
     "text": [
      "48\n",
      "52\n",
      "51\n",
      "54\n"
     ]
    }
   ],
   "source": [
    "a = 1\n",
    "b = 5\n",
    "c = 4\n",
    "d = 7\n",
    "\n",
    "y = 1\n",
    "\n",
    "main_number = 47\n",
    "\n",
    "def calc(numb):\n",
    "    if y == 0:\n",
    "        print(numb)\n",
    "    else:\n",
    "        print(numb + main_number)\n",
    "\n",
    "calc(a)\n",
    "calc(b)\n",
    "calc(c)\n",
    "calc(d)"
   ]
  },
  {
   "cell_type": "code",
   "execution_count": 1,
   "metadata": {},
   "outputs": [
    {
     "name": "stdout",
     "output_type": "stream",
     "text": [
      "48\n",
      "52\n",
      "51\n",
      "54\n"
     ]
    }
   ],
   "source": [
    "a = 1\n",
    "b = 5\n",
    "c = 4\n",
    "d = 7\n",
    "\n",
    "y = 1\n",
    "\n",
    "main_number = 47\n",
    "\n",
    "def calc(numb):\n",
    "    if y == 0:\n",
    "        print(numb)\n",
    "    else:\n",
    "        print(numb + main_number)\n",
    "\n",
    "for x in [a, b, c, d]:\n",
    "    calc(x)"
   ]
  },
  {
   "cell_type": "code",
   "execution_count": null,
   "metadata": {},
   "outputs": [],
   "source": [
    "def start():\n",
    "    print('starting....')\n",
    "\n",
    "def end():\n",
    "    print('...finished')"
   ]
  },
  {
   "cell_type": "code",
   "execution_count": 24,
   "metadata": {},
   "outputs": [
    {
     "name": "stdout",
     "output_type": "stream",
     "text": [
      "starting....\n",
      "52\n",
      "...finished\n"
     ]
    }
   ],
   "source": [
    "def calc(numb):\n",
    "    start()\n",
    "    if y == 0:\n",
    "        print(numb)\n",
    "    else:\n",
    "        print(numb + main_number)\n",
    "    end()\n",
    "\n",
    "calc(5)"
   ]
  },
  {
   "cell_type": "code",
   "execution_count": 6,
   "metadata": {},
   "outputs": [
    {
     "name": "stdout",
     "output_type": "stream",
     "text": [
      "59\n",
      "52\n"
     ]
    }
   ],
   "source": [
    "def calc(numb):\n",
    "    if y == 0:\n",
    "        return numb\n",
    "    else:\n",
    "        return numb + main_number\n",
    "\n",
    "result = calc(2)\n",
    "print(result + 10)\n",
    "\n",
    "\n",
    "print(calc(5))\n",
    "a = 1"
   ]
  },
  {
   "cell_type": "code",
   "execution_count": 9,
   "metadata": {},
   "outputs": [
    {
     "name": "stdout",
     "output_type": "stream",
     "text": [
      "None\n",
      "None\n"
     ]
    }
   ],
   "source": [
    "def simple():\n",
    "    1 == 1\n",
    "    return None\n",
    "\n",
    "res = simple()\n",
    "print(res)\n",
    "\n",
    "print(simple())"
   ]
  },
  {
   "cell_type": "code",
   "execution_count": 11,
   "metadata": {},
   "outputs": [
    {
     "name": "stdout",
     "output_type": "stream",
     "text": [
      "52\n",
      "None\n"
     ]
    }
   ],
   "source": [
    "def calc(numb):\n",
    "    if y == 0:\n",
    "        print(numb)\n",
    "    else:\n",
    "        print(numb + main_number)\n",
    "\n",
    "print(calc(5))"
   ]
  },
  {
   "cell_type": "code",
   "execution_count": 14,
   "metadata": {},
   "outputs": [
    {
     "name": "stdout",
     "output_type": "stream",
     "text": [
      "8\n",
      "4\n"
     ]
    }
   ],
   "source": [
    "def power(number, degree=2):\n",
    "    return number ** degree\n",
    "\n",
    "print(power(2, 3))\n",
    "print(power(2))\n",
    "print(power(number=3, degree=5))\n",
    "print(power(degree=3, number=5))\n",
    "print(power(3, degree=7))"
   ]
  }
 ],
 "metadata": {
  "kernelspec": {
   "display_name": "Python 3",
   "language": "python",
   "name": "python3"
  },
  "language_info": {
   "codemirror_mode": {
    "name": "ipython",
    "version": 3
   },
   "file_extension": ".py",
   "mimetype": "text/x-python",
   "name": "python",
   "nbconvert_exporter": "python",
   "pygments_lexer": "ipython3",
   "version": "3.10.12"
  }
 },
 "nbformat": 4,
 "nbformat_minor": 2
}
