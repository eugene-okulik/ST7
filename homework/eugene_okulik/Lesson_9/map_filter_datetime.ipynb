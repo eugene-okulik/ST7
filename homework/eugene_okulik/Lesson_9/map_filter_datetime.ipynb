{
 "cells": [
  {
   "cell_type": "markdown",
   "metadata": {},
   "source": [
    "## In-built functions - встроенные функции"
   ]
  },
  {
   "cell_type": "code",
   "execution_count": 7,
   "metadata": {},
   "outputs": [
    {
     "name": "stdout",
     "output_type": "stream",
     "text": [
      "257\n",
      "89\n",
      "1\n"
     ]
    }
   ],
   "source": [
    "numbers = [1, 45, 23, 67, 32, 89]\n",
    "\n",
    "numbers_sum = sum(numbers)\n",
    "\n",
    "\n",
    "print(numbers_sum)\n",
    "\n",
    "max_num = -100\n",
    "for x in numbers:\n",
    "    if x > max_num:\n",
    "        max_num = x\n",
    "\n",
    "max_num = max(numbers)\n",
    "min_num = min(numbers)\n",
    "\n",
    "print(max_num)\n",
    "print(min_num)"
   ]
  },
  {
   "cell_type": "code",
   "execution_count": 14,
   "metadata": {},
   "outputs": [
    {
     "name": "stdout",
     "output_type": "stream",
     "text": [
      "[1, 45, 23, 67, 32, 89]\n",
      "[1, 23, 32, 45, 67, 89]\n",
      "[1, 23, 32, 45, 67, 89]\n",
      "[1, 23, 32, 45, 67, 89]\n",
      "[1, 23, 32, 45, 67, 89]\n"
     ]
    }
   ],
   "source": [
    "numbers = [1, 45, 23, 67, 32, 89]\n",
    "numbers_tup = (1, 45, 23, 67, 32, 89)\n",
    "numbers_set = {1, 45, 23, 67, 32, 89}\n",
    "\n",
    "sorted_nums = sorted(numbers)\n",
    "\n",
    "print(numbers)\n",
    "print(sorted_nums)\n",
    "\n",
    "numbers.sort()\n",
    "numbers_tup = sorted(numbers_tup)\n",
    "numbers_set = sorted(numbers_set)\n",
    "\n",
    "print(numbers)\n",
    "print(numbers_tup)\n",
    "print(numbers_set)"
   ]
  },
  {
   "cell_type": "code",
   "execution_count": 16,
   "metadata": {},
   "outputs": [
    {
     "name": "stdout",
     "output_type": "stream",
     "text": [
      "[1, 45, 23, 67, 32, 89]\n",
      "[89, 67, 45, 32, 23, 1]\n",
      "[89, 67, 45, 32, 23, 1]\n"
     ]
    }
   ],
   "source": [
    "numbers = [1, 45, 23, 67, 32, 89]\n",
    "\n",
    "sorted_nums = sorted(numbers, reverse=True)\n",
    "\n",
    "print(numbers)\n",
    "print(sorted_nums)\n",
    "\n",
    "numbers.sort(reverse=True)\n",
    "\n",
    "\n",
    "print(numbers)\n"
   ]
  },
  {
   "cell_type": "code",
   "execution_count": 19,
   "metadata": {},
   "outputs": [
    {
     "name": "stdout",
     "output_type": "stream",
     "text": [
      "['tue', 'wed', 'mon']\n"
     ]
    }
   ],
   "source": [
    "temps = {'mon': 20, 'tue': 4, 'wed': 10}\n",
    "\n",
    "sorted_temps = sorted(temps, key=lambda x: temps[x])\n",
    "\n",
    "print(sorted_temps)"
   ]
  },
  {
   "cell_type": "code",
   "execution_count": 22,
   "metadata": {},
   "outputs": [
    {
     "name": "stdout",
     "output_type": "stream",
     "text": [
      "0.3333333333333333\n",
      "0.33\n"
     ]
    }
   ],
   "source": [
    "a = 1 / 3\n",
    "\n",
    "print(a)\n",
    "print(round(a, 2))"
   ]
  },
  {
   "cell_type": "code",
   "execution_count": 25,
   "metadata": {},
   "outputs": [
    {
     "name": "stdout",
     "output_type": "stream",
     "text": [
      "1\n"
     ]
    }
   ],
   "source": [
    "a = -1\n",
    "\n",
    "print(abs(a))"
   ]
  },
  {
   "cell_type": "markdown",
   "metadata": {},
   "source": [
    "# Map"
   ]
  },
  {
   "cell_type": "markdown",
   "metadata": {},
   "source": [
    "Применение операции к каждому элементу"
   ]
  },
  {
   "cell_type": "code",
   "execution_count": 26,
   "metadata": {},
   "outputs": [
    {
     "name": "stdout",
     "output_type": "stream",
     "text": [
      "[2, 4, 6, 8, 10]\n"
     ]
    }
   ],
   "source": [
    "my_list = [1, 2, 3, 4, 5]\n",
    "\n",
    "\n",
    "new_list = []\n",
    "for x in my_list:\n",
    "    new_list.append(x * 2)\n",
    "\n",
    "print(new_list)"
   ]
  },
  {
   "cell_type": "code",
   "execution_count": 31,
   "metadata": {},
   "outputs": [
    {
     "name": "stdout",
     "output_type": "stream",
     "text": [
      "<map object at 0x7911d16db5e0>\n",
      "2\n",
      "4\n",
      "6\n",
      "8\n",
      "10\n",
      "[2, 4, 6, 8, 10]\n",
      "[2, 4, 6, 8, 10]\n",
      "[]\n"
     ]
    }
   ],
   "source": [
    "my_list = [1, 2, 3, 4, 5]\n",
    "\n",
    "def mult_by_2(x):\n",
    "    return x * 2\n",
    "\n",
    "new_list = map(mult_by_2, my_list)\n",
    "\n",
    "print(new_list)\n",
    "for x in new_list:\n",
    "    print(x)\n",
    "\n",
    "\n",
    "new_list = list(map(mult_by_2, my_list))\n",
    "print(new_list)\n",
    "\n",
    "\n",
    "new_list = map(mult_by_2, my_list)\n",
    "print(list(new_list))\n",
    "print(list(new_list))"
   ]
  },
  {
   "cell_type": "code",
   "execution_count": 32,
   "metadata": {},
   "outputs": [
    {
     "name": "stdout",
     "output_type": "stream",
     "text": [
      "[2, 4, 6, 8, 10]\n",
      "[2, 4, 6, 8, 10]\n"
     ]
    }
   ],
   "source": [
    "my_list = [1, 2, 3, 4, 5]\n",
    "\n",
    "def mult_by_2(x):\n",
    "    return x * 2\n",
    "\n",
    "new_list = map(mult_by_2, my_list)\n",
    "\n",
    "new_list2 = map(lambda x: x * 2, my_list)\n",
    "\n",
    "print(list(new_list))\n",
    "print(list(new_list2))"
   ]
  },
  {
   "cell_type": "code",
   "execution_count": 33,
   "metadata": {},
   "outputs": [
    {
     "name": "stdout",
     "output_type": "stream",
     "text": [
      "4\n"
     ]
    }
   ],
   "source": [
    "my_func = lambda x, y: x + y\n",
    "\n",
    "print(my_func(1, 3))\n",
    "\n",
    "print()"
   ]
  },
  {
   "cell_type": "markdown",
   "metadata": {},
   "source": [
    "# Filter"
   ]
  },
  {
   "cell_type": "code",
   "execution_count": 34,
   "metadata": {},
   "outputs": [
    {
     "name": "stdout",
     "output_type": "stream",
     "text": [
      "[2, 4, 6, 8]\n"
     ]
    }
   ],
   "source": [
    "my_list2 = [1, 2, 3, 4, 5, 6, 7, 8]\n",
    "\n",
    "new_list2 = []\n",
    "for x in my_list2:\n",
    "    if x % 2 == 0:\n",
    "        new_list2.append(x)\n",
    "\n",
    "print(new_list2)"
   ]
  },
  {
   "cell_type": "code",
   "execution_count": 37,
   "metadata": {},
   "outputs": [
    {
     "name": "stdout",
     "output_type": "stream",
     "text": [
      "[None, 2, None, 4, None, 6, None, 8]\n"
     ]
    }
   ],
   "source": [
    "my_list2 = [1, 2, 3, 4, 5, 6, 7, 8]\n",
    "\n",
    "def ret_even(x):\n",
    "    if x % 2 == 0:\n",
    "        return x\n",
    "    \n",
    "new_list3 = list(map(ret_even, my_list2))\n",
    "print(new_list3)\n"
   ]
  },
  {
   "cell_type": "code",
   "execution_count": 36,
   "metadata": {},
   "outputs": [
    {
     "name": "stdout",
     "output_type": "stream",
     "text": [
      "[2, 4, 6, 8]\n"
     ]
    }
   ],
   "source": [
    "my_list2 = [1, 2, 3, 4, 5, 6, 7, 8]\n",
    "\n",
    "def is_even(x):\n",
    "    if x % 2 == 0:\n",
    "        return True\n",
    "    else:\n",
    "        return False\n",
    "\n",
    "\n",
    "new_list2 = list(filter(is_even, my_list2))\n",
    "print(new_list2)"
   ]
  },
  {
   "cell_type": "code",
   "execution_count": 38,
   "metadata": {},
   "outputs": [
    {
     "name": "stdout",
     "output_type": "stream",
     "text": [
      "[2, 4, 6, 8]\n"
     ]
    }
   ],
   "source": [
    "my_list2 = [1, 2, 3, 4, 5, 6, 7, 8]\n",
    "\n",
    "def is_even(x):\n",
    "    return x % 2 == 0\n",
    "\n",
    "\n",
    "new_list2 = list(filter(is_even, my_list2))\n",
    "print(new_list2)"
   ]
  },
  {
   "cell_type": "code",
   "execution_count": 40,
   "metadata": {},
   "outputs": [
    {
     "name": "stdout",
     "output_type": "stream",
     "text": [
      "[2, 4, 6, 8]\n"
     ]
    }
   ],
   "source": [
    "my_list2 = [1, 2, 3, 4, 5, 6, 7, 8]\n",
    "\n",
    "new_list2 = list(filter(lambda x: x % 2 == 0, my_list2))\n",
    "print(new_list2)"
   ]
  },
  {
   "cell_type": "code",
   "execution_count": 43,
   "metadata": {},
   "outputs": [
    {
     "name": "stdout",
     "output_type": "stream",
     "text": [
      "['dhdfgdfg', 'ertetrert', 'dfgdfgdgf', 'ertert']\n"
     ]
    }
   ],
   "source": [
    "my_list2 = [(1, 2), (3, 4), (5, 6), (7, 8)]\n",
    "\n",
    "new_list2 = list(map(lambda x: input(x), my_list2))\n",
    "print(new_list2)"
   ]
  },
  {
   "cell_type": "code",
   "execution_count": 44,
   "metadata": {},
   "outputs": [
    {
     "name": "stdout",
     "output_type": "stream",
     "text": [
      "['tue', 'wed', 'mon']\n",
      "['tue', 'wed', 'mon']\n"
     ]
    }
   ],
   "source": [
    "temps = {'mon': 20, 'tue': 4, 'wed': 10}\n",
    "\n",
    "sorted_temps = sorted(temps, key=lambda x: temps[x])\n",
    "print(sorted_temps)\n",
    "\n",
    "def return_value(key):\n",
    "    return temps[key]\n",
    "\n",
    "sorted_temps = sorted(temps, key=return_value)\n",
    "print(sorted_temps)"
   ]
  },
  {
   "cell_type": "code",
   "execution_count": 47,
   "metadata": {},
   "outputs": [
    {
     "name": "stdout",
     "output_type": "stream",
     "text": [
      "[{'name': 'bob', 'age': 36}, {'name': 'mark', 'age': 45}]\n"
     ]
    }
   ],
   "source": [
    "users = [\n",
    "    {'name': 'bob', 'age': 36},\n",
    "    {'name': 'mark', 'age': 45},\n",
    "    {'name': 'jhon', 'age': 18}\n",
    "]\n",
    "\n",
    "sorted_by_names = sorted(users, key=lambda user: user['name'])\n",
    "# sorted_by_names = sorted(filter(lambda user: user['age'] > 18,users), key=lambda user: user['age'])\n",
    "\n",
    "print(sorted_by_names)"
   ]
  },
  {
   "cell_type": "code",
   "execution_count": 51,
   "metadata": {},
   "outputs": [
    {
     "name": "stdout",
     "output_type": "stream",
     "text": [
      "yellow\n"
     ]
    }
   ],
   "source": [
    "season = 'autumn'\n",
    "\n",
    "if season == 'winter':\n",
    "    ground_color = 'white'\n",
    "elif season == 'autumn':\n",
    "    ground_color = 'yellow'\n",
    "# else:\n",
    "#     ground_color = 'green'\n",
    "\n",
    "\n",
    "ground_color = 'white' if season == 'winter' else 'yellow' if season == 'autumn' else 'green'\n",
    "\n",
    "print(ground_color)"
   ]
  }
 ],
 "metadata": {
  "kernelspec": {
   "display_name": "Python 3",
   "language": "python",
   "name": "python3"
  },
  "language_info": {
   "codemirror_mode": {
    "name": "ipython",
    "version": 3
   },
   "file_extension": ".py",
   "mimetype": "text/x-python",
   "name": "python",
   "nbconvert_exporter": "python",
   "pygments_lexer": "ipython3",
   "version": "3.10.12"
  }
 },
 "nbformat": 4,
 "nbformat_minor": 2
}
