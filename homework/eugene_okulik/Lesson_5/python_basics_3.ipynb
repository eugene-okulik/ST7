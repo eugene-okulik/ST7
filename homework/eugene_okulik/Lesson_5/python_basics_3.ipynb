{
 "cells": [
  {
   "cell_type": "markdown",
   "metadata": {},
   "source": [
    "## Dictionary(словари)\n",
    "Словари в Python - коллекции произвольных объектов с доступом по ключу. Их иногда ещё называют ассоциативными массивами или хеш-таблицами.  \n",
    "  \n",
    "данные в словаре - это пары ключ: значение  \n",
    "доступ к значениям осуществляется по ключу, а не по номеру, как в списках  \n",
    "данные в словаре упорядочены по порядку добавления элементов  \n",
    "так как словари изменяемы, то элементы словаря можно менять, добавлять, удалять  \n",
    "ключ должен быть объектом неизменяемого типа: число, строка, кортеж  \n",
    "значение может быть данными любого типа  "
   ]
  },
  {
   "cell_type": "code",
   "execution_count": 23,
   "metadata": {},
   "outputs": [
    {
     "name": "stdout",
     "output_type": "stream",
     "text": [
      "{'one': 'value1', 'two': 'value2'}\n",
      "value2\n",
      "{'one': 'myvalue', 'two': 'value2', 'three': 'Myvalue3', 'fourth': False, 'fifth': [1, 5, 7], 'sixth': {9, 5, 7}, 'eighth': {'key': 'value'}, 3: 'owieruew', False: 'weiuywerwe', 2.42: 'sdfjwkiuef', (3, 7, 9): 33444}\n",
      "{'London': 12, 'Tokio': 20, 'Delhi': 11, 'Chicago': 28}\n",
      "12\n",
      "n/a\n",
      "True\n",
      "False\n",
      "False\n"
     ]
    }
   ],
   "source": [
    "my_dict = {'one': 'value1', 'two': 'value2'}\n",
    "print(my_dict)\n",
    "print(my_dict['two'])\n",
    "my_dict['one'] = 'myvalue'\n",
    "my_dict['three'] = 'Myvalue3'\n",
    "my_dict['fourth'] = False\n",
    "my_dict['fifth'] = [1, 5, 7]\n",
    "my_dict['sixth'] = {5, 7, 9}\n",
    "my_dict['eighth'] = {'key': 'value'}\n",
    "# my_dict[{2, 6, 7}] = 'sskdjhksjdh'\n",
    "my_dict[3] = 'owieruew'\n",
    "my_dict[False] = 'weiuywerwe'\n",
    "my_dict[2.42] = 'sdfjwkiuef'\n",
    "my_dict[(3, 7, 9)] = 33444\n",
    "\n",
    "print(my_dict)\n",
    "\n",
    "weather = {'London': 12, 'Tokio': 20}\n",
    "weather2 = {'Delhi': 11, 'Chicago': 28}\n",
    "\n",
    "weather.update(weather2)\n",
    "print(weather)\n",
    "# print(weather['Helsinki'])\n",
    "print(weather.get('London'))\n",
    "print(weather.get('Helsinki', 'n/a'))\n",
    "\n",
    "print('London' in weather)\n",
    "print('Helsinki' in weather)\n",
    "print(28 in weather)"
   ]
  },
  {
   "cell_type": "code",
   "execution_count": 27,
   "metadata": {},
   "outputs": [
    {
     "name": "stdout",
     "output_type": "stream",
     "text": [
      "True\n",
      "dict_values([12, 20, 11, 28])\n",
      "dict_keys(['London', 'Tokio', 'Delhi', 'Chicago'])\n",
      "dict_items([('London', 12), ('Tokio', 20), ('Delhi', 11), ('Chicago', 28)])\n"
     ]
    }
   ],
   "source": [
    "print(28 in weather.values())\n",
    "print(weather.values())\n",
    "print(weather.keys())"
   ]
  },
  {
   "cell_type": "markdown",
   "metadata": {},
   "source": [
    "### Распаковка\n",
    "Используется для того, чтобы распределить элементы коллекции (список, словарь, множество, кортеж) по отдельным переменным.  \n",
    "Используется только в ситуациях, когда вы наверняка знаете количество элементов, содержащихся в коллекции."
   ]
  },
  {
   "cell_type": "code",
   "execution_count": 34,
   "metadata": {},
   "outputs": [
    {
     "name": "stdout",
     "output_type": "stream",
     "text": [
      "13\n",
      "4\n",
      "two\n"
     ]
    }
   ],
   "source": [
    "weekly_temps = [11, 12, 13, 14, 14, 14, 13]\n",
    "mon, tue, wed, thu, fri, sat, sun = weekly_temps\n",
    "# mon = weekly_temps[0]\n",
    "# tue = weekly_temps[1]\n",
    "print(wed)\n",
    "my_tuple = (1, 4)\n",
    "first, second = my_tuple\n",
    "print(second)\n",
    "my_dict = {'one': 'val1', 'two': 'val2'}\n",
    "d_one, d_two = my_dict\n",
    "print(d_two)"
   ]
  },
  {
   "cell_type": "markdown",
   "metadata": {},
   "source": [
    "### Срез  \n",
    "Извлечение среза позволяет взять из списка определенную его часть"
   ]
  },
  {
   "cell_type": "code",
   "execution_count": 42,
   "metadata": {},
   "outputs": [
    {
     "name": "stdout",
     "output_type": "stream",
     "text": [
      "[11, 12, 13, 14, 14]\n",
      "[14, 13]\n",
      "[11, 13, 14, 13]\n",
      "[13, 14, 14, 14, 13, 12, 11]\n",
      "[13, 14]\n"
     ]
    }
   ],
   "source": [
    "weekly_temps = [11, 12, 13, 14, 14, 14, 13]\n",
    "\n",
    "work_days = weekly_temps[0:5]\n",
    "work_days = weekly_temps[:5]\n",
    "print(work_days)\n",
    "weekends = weekly_temps[-2:]\n",
    "print(weekends)\n",
    "odd_days = weekly_temps[::2]\n",
    "full_copy = weekly_temps[:]  #  Полная копия\n",
    "print(odd_days)\n",
    "copy_reversed = weekly_temps[::-1]\n",
    "print(copy_reversed)\n",
    "weekend_reversed = weekly_temps[-1:-3:-1]\n",
    "print(weekend_reversed)"
   ]
  },
  {
   "cell_type": "markdown",
   "metadata": {},
   "source": [
    "## Методы строк\n",
    "Со строкой можно делать многое из того, что можно делать с другими коллекциями, т.к. строка это по сути тоже коллекция - последовательность символов. Больше всего функциональность строки похожа на функциональность кортежей."
   ]
  },
  {
   "cell_type": "code",
   "execution_count": 52,
   "metadata": {},
   "outputs": [
    {
     "name": "stdout",
     "output_type": "stream",
     "text": [
      "l\n",
      "20\n",
      "True\n",
      "2\n",
      "my long lo\n",
      "3\n",
      "3\n",
      "-1\n",
      "19\n"
     ]
    }
   ],
   "source": [
    "text = 'my long long string!'\n",
    "print(text[3])\n",
    "print(len(text))\n",
    "print('long' in text)\n",
    "print(text.count('long'))\n",
    "print(text[:10])\n",
    "print(text.index('long'))\n",
    "# print(text.index('lone'))\n",
    "print(text.find('long'))\n",
    "print(text.find('lone'))\n",
    "print(text.find('!'))"
   ]
  },
  {
   "cell_type": "code",
   "execution_count": 53,
   "metadata": {},
   "outputs": [
    {
     "name": "stdout",
     "output_type": "stream",
     "text": [
      "This text with messed up capitalization!\n",
      "This Text With Messed Up Capitalization!\n",
      "THIS TEXT WITH MESSED UP CAPITALIZATION!\n",
      "this text with messed up capitalization!\n"
     ]
    }
   ],
   "source": [
    "txt = \"ThIs tExt wiTh meSsEd uP CaPITalIZatiOn!\"\n",
    "print(txt.capitalize()) # Делает первую букву предложения заглавной\n",
    "print(txt.title())  # Делает каждую первую букву заглавной\n",
    "print(txt.upper())  # Делает все буквы большими\n",
    "print(txt.lower())  # Делает все буквы маленькими"
   ]
  },
  {
   "cell_type": "code",
   "execution_count": 57,
   "metadata": {},
   "outputs": [
    {
     "name": "stdout",
     "output_type": "stream",
     "text": [
      "abcdABCDabcd\n"
     ]
    }
   ],
   "source": [
    "start_capitalize = '*'\n",
    "end_capitalize = '$'\n",
    "\n",
    "user_input = input('Enter some text: ')\n",
    "start_cap = user_input.find('*')\n",
    "end_cap = user_input.find('$')\n",
    "before = user_input[:start_cap] \n",
    "cap = user_input[start_cap + 1:end_cap]\n",
    "after = user_input[end_cap + 1:]\n",
    "print(before + cap.upper() + after)"
   ]
  },
  {
   "cell_type": "markdown",
   "metadata": {},
   "source": [
    "# Строка ←→ список"
   ]
  },
  {
   "cell_type": "code",
   "execution_count": 62,
   "metadata": {},
   "outputs": [
    {
     "name": "stdout",
     "output_type": "stream",
     "text": [
      "['some', 'little', 'text']\n",
      "['some', 'little', 'text']\n"
     ]
    }
   ],
   "source": [
    "my_string = 'some little text'\n",
    "list_from_str = my_string.split()\n",
    "print(list_from_str)\n",
    "my_string2 = 'some, little, text'\n",
    "list_from_str2 = my_string2.split(', ')\n",
    "print(list_from_str2)"
   ]
  },
  {
   "cell_type": "code",
   "execution_count": 65,
   "metadata": {},
   "outputs": [
    {
     "name": "stdout",
     "output_type": "stream",
     "text": [
      "Student knows: ['Python', 'Java', 'Ruby']\n",
      "Student knows: Python, Java, Ruby\n"
     ]
    }
   ],
   "source": [
    "languages = ['Python', 'Java', 'Ruby']\n",
    "print('Student knows:', languages)\n",
    "print('Student knows:', ', '.join(languages))"
   ]
  },
  {
   "cell_type": "markdown",
   "metadata": {},
   "source": [
    "# Форматирование строки"
   ]
  },
  {
   "cell_type": "code",
   "execution_count": 79,
   "metadata": {},
   "outputs": [
    {
     "name": "stdout",
     "output_type": "stream",
     "text": [
      "First word is one , second word is two\n",
      "First word is one, second word is two\n",
      "First word is one, second word is two\n",
      "First word is one, second word is two\n",
      "First word is False, second word is two\n",
      "First word is one, second word is two\n",
      "2 + 2 is 4, second word is TWO\n"
     ]
    }
   ],
   "source": [
    "a = 'one'\n",
    "b = 'two'\n",
    "print('First word is', a, ', second word is', b)\n",
    "\n",
    "my_text = 'First word is ' + a + ', second word is ' + b\n",
    "print(my_text)\n",
    "\n",
    "my_text = 'First word is %s, second word is %s'\n",
    "print(my_text % (a, b))\n",
    "\n",
    "#string format\n",
    "my_text = 'First word is {}, second word is {}'\n",
    "print(my_text.format(a, b))\n",
    "\n",
    "my_text = 'First word is {0}, second word is {1}'\n",
    "print(my_text.format(a == 'uwerw', b))\n",
    "\n",
    "#f-string\n",
    "my_text = f'First word is {a}, second word is {b}'\n",
    "print(my_text)\n",
    "\n",
    "my_text = f'2 + 2 is {2 + 2}, second word is {b.upper()}'\n",
    "print(my_text)"
   ]
  },
  {
   "cell_type": "code",
   "execution_count": 76,
   "metadata": {},
   "outputs": [
    {
     "name": "stdout",
     "output_type": "stream",
     "text": [
      "Hello, Bob\n"
     ]
    }
   ],
   "source": [
    "import random\n",
    "\n",
    "templates = ['Hello, {0}', 'Good morning, {0}', 'Good evening, {0}']\n",
    "template = random.choice(templates)\n",
    "user_input = input('your name: ')\n",
    "print(template.format(user_input))"
   ]
  }
 ],
 "metadata": {
  "kernelspec": {
   "display_name": "Python 3 (ipykernel)",
   "language": "python",
   "name": "python3"
  },
  "language_info": {
   "codemirror_mode": {
    "name": "ipython",
    "version": 3
   },
   "file_extension": ".py",
   "mimetype": "text/x-python",
   "name": "python",
   "nbconvert_exporter": "python",
   "pygments_lexer": "ipython3",
   "version": "3.10.12"
  }
 },
 "nbformat": 4,
 "nbformat_minor": 2
}
