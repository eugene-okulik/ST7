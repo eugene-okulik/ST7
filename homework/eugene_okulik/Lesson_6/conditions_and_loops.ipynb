{
 "cells": [
  {
   "cell_type": "markdown",
   "metadata": {},
   "source": [
    "## Условия (conditions)"
   ]
  },
  {
   "cell_type": "code",
   "execution_count": 85,
   "metadata": {},
   "outputs": [
    {
     "name": "stdout",
     "output_type": "stream",
     "text": [
      "True\n",
      "Возьми зонт\n",
      "End\n"
     ]
    }
   ],
   "source": [
    "import random\n",
    "\n",
    "rain = random.choice([False, True, None])\n",
    "print(rain)\n",
    "\n",
    "\n",
    "if rain is None:  # else if\n",
    "    print(\"Решай сам\")\n",
    "elif rain is True:\n",
    "    print('Возьми зонт')\n",
    "elif rain == 25:\n",
    "    print()\n",
    "else:\n",
    "    print(\"Не бери зонт\")\n",
    "\n",
    "\n",
    "print('End')\n",
    "\n"
   ]
  },
  {
   "cell_type": "code",
   "execution_count": 70,
   "metadata": {},
   "outputs": [
    {
     "name": "stdout",
     "output_type": "stream",
     "text": [
      "False\n",
      "Не бери зонт\n",
      "End\n"
     ]
    }
   ],
   "source": [
    "import random\n",
    "\n",
    "rain = random.choice([False, True, None])\n",
    "print(rain)\n",
    "\n",
    "\n",
    "if rain:\n",
    "    print('Возьми зонт')\n",
    "elif rain is None:  # else if\n",
    "    print(\"Решай сам\")\n",
    "else:\n",
    "    print(\"Не бери зонт\")\n",
    "\n",
    "\n",
    "print('End')"
   ]
  },
  {
   "cell_type": "code",
   "execution_count": 67,
   "metadata": {},
   "outputs": [
    {
     "name": "stdout",
     "output_type": "stream",
     "text": [
      "it is true\n"
     ]
    }
   ],
   "source": [
    "y = -2\n",
    "\n",
    "if y:\n",
    "    print('it is true')"
   ]
  },
  {
   "cell_type": "code",
   "execution_count": 92,
   "metadata": {},
   "outputs": [
    {
     "name": "stdout",
     "output_type": "stream",
     "text": [
      "more than one\n"
     ]
    }
   ],
   "source": [
    "a = 7\n",
    "\n",
    "if a > 1:\n",
    "    print('more than one')\n",
    "elif a == 7:\n",
    "    print('seven')\n",
    "\n"
   ]
  },
  {
   "cell_type": "code",
   "execution_count": 33,
   "metadata": {},
   "outputs": [
    {
     "name": "stdout",
     "output_type": "stream",
     "text": [
      "False\n",
      "True\n",
      "True\n"
     ]
    }
   ],
   "source": [
    "a = []\n",
    "b = []\n",
    "c = a\n",
    "\n",
    "print(a is b)\n",
    "print(a == b)\n",
    "print(a is c)"
   ]
  },
  {
   "cell_type": "code",
   "execution_count": 41,
   "metadata": {},
   "outputs": [
    {
     "name": "stdout",
     "output_type": "stream",
     "text": [
      "98621333251104\n",
      "98621333251104\n"
     ]
    }
   ],
   "source": [
    "print(id(True))\n",
    "ccc = True\n",
    "print(id(ccc))"
   ]
  },
  {
   "cell_type": "code",
   "execution_count": 74,
   "metadata": {},
   "outputs": [
    {
     "name": "stdout",
     "output_type": "stream",
     "text": [
      "None 1\n",
      "n/a\n"
     ]
    }
   ],
   "source": [
    "import random\n",
    "\n",
    "rain = random.choice([False, True, None])\n",
    "rain_heaviness = random.randrange(1, 11)\n",
    "print(rain, rain_heaviness)\n",
    "\n",
    "\n",
    "if rain:\n",
    "    if rain_heaviness < 2:\n",
    "        print('Дождя считай нет')\n",
    "    elif rain_heaviness >= 2 and rain_heaviness < 6:\n",
    "        if rain_heaviness < 4:\n",
    "            print('не растаешь')\n",
    "        else:\n",
    "            print('я бы взял')\n",
    "    elif rain_heaviness < 8:\n",
    "        print('возьми зонт')\n",
    "    else:\n",
    "        print(\"уже бесполезно\")\n",
    "elif rain is None:\n",
    "    print('n/a')\n",
    "else:\n",
    "    print('not umbrella')"
   ]
  },
  {
   "cell_type": "markdown",
   "metadata": {},
   "source": [
    "## Loops - циклы\n"
   ]
  },
  {
   "cell_type": "markdown",
   "metadata": {},
   "source": [
    "### for loop - Цикл for"
   ]
  },
  {
   "cell_type": "code",
   "execution_count": 99,
   "metadata": {},
   "outputs": [
    {
     "name": "stdout",
     "output_type": "stream",
     "text": [
      "John\n",
      "Tim\n",
      "James\n",
      "Bob\n",
      "Jim\n",
      "Bill\n",
      "Beam\n"
     ]
    }
   ],
   "source": [
    "names = ['John', 'Tim', 'James', 'Bob', 'Jim', 'Bill', 'Beam']\n",
    "# print(names[0])\n",
    "# print(names[1])\n",
    "# print(names[2])\n",
    "# print(names[3])\n",
    "# print(names[4])\n",
    "# print(names[5])\n",
    "\n",
    "for name in names:\n",
    "    print(name)\n"
   ]
  },
  {
   "cell_type": "code",
   "execution_count": 110,
   "metadata": {},
   "outputs": [
    {
     "name": "stdout",
     "output_type": "stream",
     "text": [
      "Mr.John\n",
      "TIm\n",
      "Mr.James\n",
      "Bob\n",
      "Mr.JIm\n",
      "BIll\n",
      "Beam\n"
     ]
    }
   ],
   "source": [
    "# names = ['John', 'Tim', 'James', 'Bob', 'Jim', 'Bill', 'Beam']\n",
    "names = ('John', 'Tim', 'James', 'Bob', 'Jim', 'Bill', 'Beam')\n",
    "# names = {'John', 'Tim', 'James', 'Bob', 'Jim', 'Bill', 'Beam'}\n",
    "\n",
    "for name in names:\n",
    "    name = name.replace('i', 'I')\n",
    "    if name.startswith('J'):\n",
    "        print('Mr.', end='')\n",
    "    print(name)"
   ]
  },
  {
   "cell_type": "code",
   "execution_count": 111,
   "metadata": {},
   "outputs": [
    {
     "name": "stdout",
     "output_type": "stream",
     "text": [
      "John\n",
      "Tom\n",
      "James\n"
     ]
    }
   ],
   "source": [
    "persons = {'John': 132, 'Tom': 167, 'James': 214}\n",
    "\n",
    "for pers in persons:\n",
    "    print(pers)"
   ]
  },
  {
   "cell_type": "code",
   "execution_count": 112,
   "metadata": {},
   "outputs": [
    {
     "name": "stdout",
     "output_type": "stream",
     "text": [
      "132\n",
      "167\n",
      "214\n"
     ]
    }
   ],
   "source": [
    "persons = {'John': 132, 'Tom': 167, 'James': 214}\n",
    "\n",
    "for pers in persons:\n",
    "    print(persons[pers])"
   ]
  },
  {
   "cell_type": "code",
   "execution_count": 113,
   "metadata": {},
   "outputs": [
    {
     "name": "stdout",
     "output_type": "stream",
     "text": [
      "John: 132\n",
      "Tom: 167\n",
      "James: 214\n"
     ]
    }
   ],
   "source": [
    "persons = {'John': 132, 'Tom': 167, 'James': 214}\n",
    "\n",
    "for pers in persons:\n",
    "    print(f'{pers}: {persons[pers]}')"
   ]
  },
  {
   "cell_type": "code",
   "execution_count": 120,
   "metadata": {},
   "outputs": [
    {
     "name": "stdout",
     "output_type": "stream",
     "text": [
      "('John', 132)\n",
      "John: 132\n",
      "('Tom', 167)\n",
      "Tom: 167\n",
      "('James', 214)\n",
      "James: 214\n"
     ]
    }
   ],
   "source": [
    "persons = {'John': 132, 'Tom': 167, 'James': 214}\n",
    "\n",
    "for pers in persons.items():\n",
    "    print(pers)\n",
    "    print(f'{pers[0]}: {pers[1]}')"
   ]
  },
  {
   "cell_type": "code",
   "execution_count": 118,
   "metadata": {},
   "outputs": [
    {
     "name": "stdout",
     "output_type": "stream",
     "text": [
      "John: 132\n",
      "Tom: 167\n",
      "James: 214\n"
     ]
    }
   ],
   "source": [
    "persons = {'John': 132, 'Tom': 167, 'James': 214}\n",
    "\n",
    "for pers in persons.items():\n",
    "    name, height = pers\n",
    "    print(f'{name}: {height}')"
   ]
  },
  {
   "cell_type": "code",
   "execution_count": 119,
   "metadata": {},
   "outputs": [
    {
     "name": "stdout",
     "output_type": "stream",
     "text": [
      "John: 132\n",
      "Tom: 167\n",
      "James: 214\n"
     ]
    }
   ],
   "source": [
    "persons = {'John': 132, 'Tom': 167, 'James': 214}\n",
    "\n",
    "for name, height in persons.items():\n",
    "    print(f'{name}: {height}')"
   ]
  },
  {
   "cell_type": "code",
   "execution_count": 126,
   "metadata": {},
   "outputs": [
    {
     "name": "stdout",
     "output_type": "stream",
     "text": [
      "range(3, 9)\n",
      "0\n",
      "1\n",
      "2\n",
      "3\n",
      "4\n",
      "Hello\n",
      "Hello\n",
      "Hello\n",
      "Hello\n",
      "Hello\n"
     ]
    }
   ],
   "source": [
    "print(range(3, 9))\n",
    "for x in range(5):\n",
    "    print(x)\n",
    "\n",
    "for _ in range(5):\n",
    "    print('Hello')"
   ]
  },
  {
   "cell_type": "markdown",
   "metadata": {},
   "source": [
    "Еще методы для строк"
   ]
  },
  {
   "cell_type": "code",
   "execution_count": 129,
   "metadata": {},
   "outputs": [
    {
     "name": "stdout",
     "output_type": "stream",
     "text": [
      "Hello universe!\n"
     ]
    }
   ],
   "source": [
    "msg = 'Hello world!'\n",
    "\n",
    "msg = msg.replace('world', 'universe')\n",
    "print(msg)"
   ]
  },
  {
   "cell_type": "code",
   "execution_count": 135,
   "metadata": {},
   "outputs": [],
   "source": [
    "data = '12,3'\n",
    "\n",
    "data = data.replace(',', '.')\n",
    "\n",
    "data = float(data)"
   ]
  },
  {
   "cell_type": "code",
   "execution_count": 137,
   "metadata": {},
   "outputs": [
    {
     "name": "stdout",
     "output_type": "stream",
     "text": [
      "admin\n"
     ]
    }
   ],
   "source": [
    "login = ' admin '\n",
    "\n",
    "login = login.strip()\n",
    "\n",
    "print(login)"
   ]
  },
  {
   "cell_type": "code",
   "execution_count": 140,
   "metadata": {},
   "outputs": [
    {
     "name": "stdout",
     "output_type": "stream",
     "text": [
      "value\n"
     ]
    }
   ],
   "source": [
    "data = '::value::'\n",
    "\n",
    "data = data.strip(':')\n",
    "\n",
    "print(data)"
   ]
  },
  {
   "cell_type": "code",
   "execution_count": 146,
   "metadata": {},
   "outputs": [
    {
     "name": "stdout",
     "output_type": "stream",
     "text": [
      "astr\n"
     ]
    }
   ],
   "source": [
    "data2 = 'ttttstsastrssssttttst'\n",
    "\n",
    "data2 = data2.strip('st')\n",
    "\n",
    "print(data2)"
   ]
  }
 ],
 "metadata": {
  "kernelspec": {
   "display_name": "Python 3",
   "language": "python",
   "name": "python3"
  },
  "language_info": {
   "codemirror_mode": {
    "name": "ipython",
    "version": 3
   },
   "file_extension": ".py",
   "mimetype": "text/x-python",
   "name": "python",
   "nbconvert_exporter": "python",
   "pygments_lexer": "ipython3",
   "version": "3.10.12"
  }
 },
 "nbformat": 4,
 "nbformat_minor": 2
}
