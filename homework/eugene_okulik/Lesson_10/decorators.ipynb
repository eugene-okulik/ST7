{
 "cells": [
  {
   "cell_type": "code",
   "execution_count": 5,
   "metadata": {},
   "outputs": [],
   "source": [
    "def prettify_me(func):\n",
    "\n",
    "    def wrapper(*args, **kwargs):\n",
    "        print('* - ^ - *')\n",
    "        func(*args, **kwargs)\n",
    "        print('^^^^^^^^^')\n",
    "\n",
    "    return wrapper"
   ]
  },
  {
   "cell_type": "code",
   "execution_count": 6,
   "metadata": {},
   "outputs": [
    {
     "name": "stdout",
     "output_type": "stream",
     "text": [
      "* - ^ - *\n",
      "3\n",
      "^^^^^^^^^\n",
      "* - ^ - *\n",
      "21\n",
      "^^^^^^^^^\n"
     ]
    }
   ],
   "source": [
    "@prettify_me\n",
    "def calc_sum(x, y):\n",
    "    print(x + y)\n",
    "\n",
    "\n",
    "@prettify_me\n",
    "def calc_mult(x, y):\n",
    "    print(x * y)\n",
    "\n",
    "\n",
    "calc_sum(1, 2)\n",
    "# def wrapper(*args, **kwargs):\n",
    "#         print('* - ^ - *')\n",
    "#         calc_sum(*args, **kwargs)\n",
    "#         print('^^^^^^^^^')\n",
    "calc_mult(3, 7)"
   ]
  },
  {
   "cell_type": "code",
   "execution_count": 10,
   "metadata": {},
   "outputs": [
    {
     "name": "stdout",
     "output_type": "stream",
     "text": [
      "5\n",
      "<function smth at 0x77b1c4ef5d80>\n",
      "<function smth at 0x77b1c4ef5d80>\n",
      "5\n"
     ]
    }
   ],
   "source": [
    "def smth():\n",
    "    return 5\n",
    "\n",
    "print(smth())\n",
    "print(smth)\n",
    "\n",
    "another = smth\n",
    "\n",
    "print(another)\n",
    "print(another())"
   ]
  },
  {
   "cell_type": "code",
   "execution_count": 11,
   "metadata": {},
   "outputs": [
    {
     "name": "stdout",
     "output_type": "stream",
     "text": [
      "hello\n"
     ]
    }
   ],
   "source": [
    "def greet():\n",
    "\n",
    "    def hello():\n",
    "        return 'hello'\n",
    "    \n",
    "    return hello()\n",
    "\n",
    "def greet2():\n",
    "\n",
    "    def hello():\n",
    "        return 'hello'\n",
    "    \n",
    "    return hello()\n",
    "\n",
    "\n",
    "print(greet())\n"
   ]
  },
  {
   "cell_type": "code",
   "execution_count": 19,
   "metadata": {},
   "outputs": [
    {
     "name": "stdout",
     "output_type": "stream",
     "text": [
      "Hi\n"
     ]
    }
   ],
   "source": [
    "def hi():\n",
    "    return 'Hi'\n",
    "\n",
    "def privet():\n",
    "    return hi()\n",
    "\n",
    "def hi():\n",
    "    return 'HIIIII'\n",
    "\n",
    "def privet2():\n",
    "    return hi()\n",
    "\n",
    "print(privet())"
   ]
  },
  {
   "cell_type": "code",
   "execution_count": 23,
   "metadata": {},
   "outputs": [
    {
     "name": "stdout",
     "output_type": "stream",
     "text": [
      "<function outer.<locals>.inner at 0x77b1c4ef5fc0>\n",
      "7\n",
      "<function outer.<locals>.inner at 0x77b1c4ef5fc0>\n",
      "7\n"
     ]
    }
   ],
   "source": [
    "def outer():\n",
    "\n",
    "    def inner():\n",
    "        result = 2 + 5\n",
    "        return result\n",
    "    \n",
    "    return inner\n",
    "\n",
    "print(outer())\n",
    "print(outer()())\n",
    "\n",
    "outer_result = outer()\n",
    "print(outer_result)\n",
    "print(outer_result())"
   ]
  },
  {
   "cell_type": "code",
   "execution_count": 24,
   "metadata": {},
   "outputs": [
    {
     "name": "stdout",
     "output_type": "stream",
     "text": [
      "before\n",
      "simple\n",
      "after\n",
      "before\n",
      "simple2\n",
      "after\n"
     ]
    }
   ],
   "source": [
    "def func1(give_me_a_func):\n",
    "    print('before')\n",
    "    give_me_a_func()\n",
    "    print('after')\n",
    "\n",
    "def simple1():\n",
    "    print('simple1')\n",
    "\n",
    "def simple2():\n",
    "    print('simple2')\n",
    "\n",
    "func1(simple1)\n",
    "func1(simple2)"
   ]
  },
  {
   "cell_type": "code",
   "execution_count": 32,
   "metadata": {},
   "outputs": [
    {
     "name": "stdout",
     "output_type": "stream",
     "text": [
      "<function add_text.<locals>.wrapper at 0x77b1c4ef5360>\n",
      "before\n",
      "simple1\n",
      "after\n",
      "before\n",
      "simple2\n",
      "after\n"
     ]
    }
   ],
   "source": [
    "def add_text(func):\n",
    "\n",
    "    def wrapper():\n",
    "        print('before')\n",
    "        func()\n",
    "        print('after')\n",
    "\n",
    "    return wrapper\n",
    "\n",
    "def simple1():\n",
    "    print('simple1')\n",
    "\n",
    "@add_text  #  simple2 = add_text(simple2)\n",
    "def simple2():\n",
    "    print('simple2')\n",
    "\n",
    "print(add_text(simple1))\n",
    "simple1 = add_text(simple1)\n",
    "simple1()\n",
    "\n",
    "simple2()"
   ]
  },
  {
   "cell_type": "code",
   "execution_count": 48,
   "metadata": {},
   "outputs": [
    {
     "name": "stdout",
     "output_type": "stream",
     "text": [
      "before\n",
      "simple1\n",
      "after\n",
      "\n",
      "before\n",
      "3\n",
      "after\n",
      "\n",
      "before\n",
      "1 3 5\n",
      "after\n",
      "\n",
      "before\n",
      "processing.....\n",
      "after\n",
      "\n",
      "hello\n"
     ]
    }
   ],
   "source": [
    "def add_text(func):\n",
    "\n",
    "    def wrapper(*args, **kwargs):\n",
    "        print('before')\n",
    "        result = func(*args, **kwargs)  #  func((1, 2))\n",
    "        print('after')\n",
    "        print()\n",
    "        return result\n",
    "\n",
    "    return wrapper\n",
    "\n",
    "@add_text\n",
    "def simple1():\n",
    "    print('simple1')\n",
    "\n",
    "@add_text\n",
    "def calc(x, y):\n",
    "    print(x + y)\n",
    "\n",
    "@add_text\n",
    "def calc3(x, y, w):\n",
    "    print(x, y, w)\n",
    "\n",
    "@add_text\n",
    "def hello():\n",
    "    print('processing.....')\n",
    "    return 'hello'\n",
    "\n",
    "simple1()\n",
    "calc(1, 2)\n",
    "calc3(1, 3, 5)\n",
    "print(hello())"
   ]
  },
  {
   "cell_type": "code",
   "execution_count": 43,
   "metadata": {},
   "outputs": [
    {
     "name": "stdout",
     "output_type": "stream",
     "text": [
      "simple1\n",
      "before\n",
      "3\n",
      "after\n",
      "1 3 5\n"
     ]
    }
   ],
   "source": [
    "def add_text(func):\n",
    "\n",
    "    def wrapper(*args, **kwargs):\n",
    "        if kwargs.get('decor'):\n",
    "            del kwargs['decor']\n",
    "            print('before')\n",
    "            func(*args, **kwargs)  #  func((1, 2))\n",
    "            print('after')\n",
    "        else:\n",
    "            func(*args, **kwargs)\n",
    "\n",
    "    return wrapper\n",
    "\n",
    "@add_text\n",
    "def simple1():\n",
    "    print('simple1')\n",
    "\n",
    "@add_text\n",
    "def calc(x, y):\n",
    "    print(x + y)\n",
    "\n",
    "@add_text\n",
    "def calc3(x, y, w):\n",
    "    print(x, y, w)\n",
    "\n",
    "simple1()\n",
    "calc(1, 2, decor=True)\n",
    "calc3(1, 3, 5)"
   ]
  },
  {
   "cell_type": "code",
   "execution_count": null,
   "metadata": {},
   "outputs": [],
   "source": [
    "def add_text(func):\n",
    "\n",
    "    def wrapper(*args, **kwargs):\n",
    "        todays_discount = get_data_from_db()\n",
    "        result = func(todays_discount)  #  func((1, 2))\n",
    "        print('after')\n",
    "        print()\n",
    "        return result\n",
    "\n",
    "    return wrapper"
   ]
  },
  {
   "cell_type": "code",
   "execution_count": 1,
   "metadata": {},
   "outputs": [
    {
     "name": "stdout",
     "output_type": "stream",
     "text": [
      "TEXT\n",
      "4\n",
      "after\n"
     ]
    }
   ],
   "source": [
    "def add_text(text): \n",
    "    def decor(func):\n",
    "\n",
    "        def wrapper(*args, **kwargs):\n",
    "            print(text)\n",
    "            func(*args, **kwargs)\n",
    "            print('after')\n",
    "\n",
    "        return wrapper\n",
    "\n",
    "    return decor\n",
    "\n",
    "\n",
    "@add_text(text='TEXT')\n",
    "def calc(x, y):\n",
    "    print(x + y)\n",
    "\n",
    "calc(1, 3)"
   ]
  }
 ],
 "metadata": {
  "kernelspec": {
   "display_name": "Python 3",
   "language": "python",
   "name": "python3"
  },
  "language_info": {
   "codemirror_mode": {
    "name": "ipython",
    "version": 3
   },
   "file_extension": ".py",
   "mimetype": "text/x-python",
   "name": "python",
   "nbconvert_exporter": "python",
   "pygments_lexer": "ipython3",
   "version": "3.10.12"
  }
 },
 "nbformat": 4,
 "nbformat_minor": 2
}
